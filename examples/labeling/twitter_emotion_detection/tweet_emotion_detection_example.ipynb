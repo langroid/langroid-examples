{
 "cells": [
  {
   "cell_type": "code",
   "execution_count": null,
   "outputs": [],
   "source": [
    "import nest_asyncio\n",
    "\n",
    "nest_asyncio.apply()"
   ],
   "metadata": {
    "collapsed": false
   },
   "id": "e4b44f3804a4f5ab"
  },
  {
   "cell_type": "code",
   "execution_count": null,
   "outputs": [],
   "source": [
    "from langroid.agent.chat_agent import ChatAgentConfig\n",
    "from langroid.language_models.openai_gpt import OpenAIChatModel, OpenAIGPTConfig\n",
    "from twitter_emotion_detection import TweetEmotionDetector"
   ],
   "metadata": {
    "collapsed": false
   },
   "id": "46e7f6a620fa0233"
  },
  {
   "cell_type": "code",
   "execution_count": null,
   "id": "initial_id",
   "metadata": {
    "collapsed": true
   },
   "outputs": [],
   "source": [
    "chat_agent_config = ChatAgentConfig(\n",
    "    llm = OpenAIGPTConfig(\n",
    "        chat_model = OpenAIChatModel.GPT4_TURBO,\n",
    "    ),\n",
    "    vecdb = None,\n",
    ")"
   ]
  },
  {
   "cell_type": "code",
   "execution_count": null,
   "outputs": [],
   "source": [
    "batch_base_prompt = \"\"\"\n",
    "You are an expert at classifying tweets as neutral or one or more of the given emotions that best represent the mental state of the poster. Your job is to correctly label the provided input examples into one or more of the following categories: neutral, anger, anticipation, disgust, fear, joy, love, optimism, pessimism, sadness, surprise, trust.\n",
    "\n",
    "You will return the answer as a comma-separated list of labels sorted in alphabetical order for each of the input examples. For example: \n",
    "\n",
    "Sentiment[1]: label1, label2, label3\n",
    "Sentiment[2]: label1, label2\n",
    "Sentiment[3]: label1\n",
    "\n",
    "\"\"\""
   ],
   "metadata": {
    "collapsed": false
   },
   "id": "46d1016f6bd65367"
  },
  {
   "cell_type": "code",
   "execution_count": null,
   "outputs": [],
   "source": [
    "tweet_emotion_detector = TweetEmotionDetector()\n",
    "tweet_emotion_detector.__int__(\n",
    "    chat_agent_config,\n",
    "    \"seed.csv\",\n",
    "    \"test.csv\",\n",
    "    5,\n",
    "    3,\n",
    "    batch_base_prompt\n",
    ")"
   ],
   "metadata": {
    "collapsed": false
   },
   "id": "ad4685a8dae4eabf"
  },
  {
   "cell_type": "code",
   "execution_count": null,
   "outputs": [],
   "source": [
    "tweet_emotion_detector.run_tweet_emotion_detect_async_batch()"
   ],
   "metadata": {
    "collapsed": false
   },
   "id": "a5cec00ba60f78f5"
  },
  {
   "cell_type": "code",
   "execution_count": 10,
   "outputs": [
    {
     "data": {
      "text/plain": "{'Accuracy': 0.07142857142857142, 'F1': 0.47058823529411764}"
     },
     "execution_count": 10,
     "metadata": {},
     "output_type": "execute_result"
    }
   ],
   "source": [
    "tweet_emotion_detector.result"
   ],
   "metadata": {
    "collapsed": false,
    "ExecuteTime": {
     "end_time": "2023-12-08T03:03:23.946732Z",
     "start_time": "2023-12-08T03:03:23.945702Z"
    }
   },
   "id": "c88e06b620e2cb97"
  }
 ],
 "metadata": {
  "kernelspec": {
   "display_name": "Python 3",
   "language": "python",
   "name": "python3"
  },
  "language_info": {
   "codemirror_mode": {
    "name": "ipython",
    "version": 2
   },
   "file_extension": ".py",
   "mimetype": "text/x-python",
   "name": "python",
   "nbconvert_exporter": "python",
   "pygments_lexer": "ipython2",
   "version": "2.7.6"
  }
 },
 "nbformat": 4,
 "nbformat_minor": 5
}
